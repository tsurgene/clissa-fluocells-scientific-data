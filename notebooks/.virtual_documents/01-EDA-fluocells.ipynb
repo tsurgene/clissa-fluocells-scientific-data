





import numpy as np
import pandas as pd
from pathlib import Path
from tqdm.auto import tqdm
from itertools import product

from IPython import get_ipython
from IPython.core.interactiveshell import InteractiveShell

from skimage import io
from matplotlib import pyplot as plt

# import warnings
# warnings.filterwarnings('ignore')


# Options for pandas
pd.options.display.max_columns = 50
pd.options.display.max_rows = 30
pd.options.display.float_format = '{:,.2f}'.format

# Display all cell outputs
InteractiveShell.ast_node_interactivity = 'all'

ipython = get_ipython()

# autoreload extension
if 'autoreload' not in ipython.extension_manager.loaded:
    %load_ext autoreload

%autoreload 2

# Visualizations
size = 14
params = {'legend.fontsize': 'large',
          'font.family': "Helvetica",
          'figure.figsize': (8, 8),
          'axes.labelsize': size,
          'axes.titlesize': size,
          'xtick.labelsize': 11,
          'ytick.labelsize': 9,
          'legend.title_fontsize': 11,
          'legend.fontsize': 9
          # 'axes.titlepad': 25
          }
plt.rcParams.update(params)

plt.style.use('seaborn-whitegrid')
# alternative to the above
# plt.rcParams["axes.grid"] = True
# plt.rcParams["axes.grid.which"] = "both"
# plt.rcParams["axes.linewidth"] = 0.5
# plt.rcParams["grid.linestyle"] = "--"
# plt.rcParams["grid.alpha"] = 0.5


import sys

code_path = "../"
sys.path.append(code_path)
from fluocells.config import REPO_PATH, DATA_PATH, DATA_PATH_g, DATA_PATH_y, DATA_PATH_r, METADATA





for dataset_path in [DATA_PATH_g, DATA_PATH_y, DATA_PATH_r]:
    sample_data_path = dataset_path / 'trainval' / 'images'
    fig = plt.figure(figsize=(16, 12))
    for i, img_path in enumerate([*sample_data_path.iterdir()][:4]):
        img = io.imread(img_path)
        sb = plt.subplot(2, 2, i + 1)
        plot = plt.title(img_path.name)
        plot = plt.axis('off')
        plot = plt.imshow(img)
    plt.tight_layout()
    plt.show()


for dataset_path in [DATA_PATH_g, DATA_PATH_y, DATA_PATH_r]:
    sample_data_path = dataset_path / 'trainval' / 'ground_truths/masks'
    fig = plt.figure(figsize=(16, 12))
    for i, img_path in enumerate([*sample_data_path.iterdir()][:4]):
        img = io.imread(img_path, as_gray=True)
        sb = plt.subplot(2, 2, i + 1)
        plot = plt.title(img_path.name)
        plot = plt.axis('off')
        plot = plt.imshow(img, cmap="gray")
    plt.tight_layout()
    plt.show()





# read metadata
meta_df = pd.read_excel(DATA_PATH_y.parent /
                        f"metadata_{METADATA['current_version']}.xlsx",
                        sheet_name="metadata")

# Get summary stats and rearrange df for plotting
df_stats = meta_df.groupby(['dataset', 'partition'
                            ])['image_name'].size().reset_index(name='total')
df_stats





total_images = len(meta_df)
total_labelled = len(meta_df.query("partition != 'unlabelled'"))
total_unlabelled = len(meta_df.query("partition == 'unlabelled'"))

print(f"{total_images=}")
print(f"{total_labelled=}")
print(f"{total_unlabelled=}")


# labelling utils
datasets = ["green", "red", "yellow"]
sizes = df_stats.groupby("dataset")["total"].sum().values
colors = {"green": '#067b26', "red": '#e11b01', "yellow": '#f9f814'}
patterns = {"green": '.', "red": 'x', "yellow": '+'}
labels = [f"total {dataset}: {size}" for dataset, size in zip(datasets, sizes)]

# Plot
annotations_size = 11  #int(size*2/3)

width = 0.2
x = np.arange(len(df_stats['partition'].unique()))

fig, ax = plt.subplots(figsize=(5, 4))
colors = ['#067b26', '#e11b01', '#f9f814']
patterns = [".", "x", "+"]
h = 0
for i, (group, data) in enumerate(df_stats.groupby('dataset')):
    xs = x + (i - 1) * width
    _ = ax.bar(xs,
               data['total'],
               width=width,
               label=group,
               color=colors[i],
               hatch=patterns[i])
    for j, count in enumerate(data['total']):
        _ = ax.text(xs[j],
                    count,
                    str(count),
                    ha='center',
                    va='bottom',
                    size=annotations_size)

# Set custom x-axis tick labels
_ = ax.set_xticks(x)
_ = ax.set_xticklabels(df_stats['partition'].unique())

# Set labels and title
_ = ax.set_xlabel('Partition')
_ = ax.set_ylabel('N. images')
# _ = ax.set_title('FNC collection composition')
_ = ax.legend(title='Dataset')

# Set layout for consistent outlook
_ = fig.patch.set_alpha(0)
_ = ax.patch.set_alpha(0)

# Move the legend outside and set custom labels
_ = ax.legend(title='Dataset',
              bbox_to_anchor=(0.5, -0.3),
              loc='lower center',
              ncol=len(df_stats['dataset'].unique()),
              fancybox=True,
              shadow=True,
              labels=labels,
#               title_fontsize=annotations_size,
#               fontsize=annotations_size - 2
             )
ax.xaxis.grid(False) 

# Save the plot as PDF
fig.savefig(REPO_PATH / "figures" / "FNC_composition.pdf", bbox_inches='tight')
plt.show()








all_mask_paths = []
for dataset, partition in product(["green", "red", "yellow"],
                                  ["trainval", "test"]):
    all_mask_paths.extend(
        [*(DATA_PATH / dataset / partition / "ground_truths/masks").iterdir()])

signal_pct_df = pd.DataFrame()
for mask_path in tqdm(all_mask_paths):
    mask = io.imread(mask_path, as_gray=True)
    total_pixels = mask.shape[0] * mask.shape[1]

    partition = mask_path.parent.parent.parent.name
    dataset = mask_path.parent.parent.parent.parent.name

    # check binary masks
    if len(np.unique(mask)) > 2:
        print(mask_path.name)
        print(np.unique(mask))
        raise (NotImplementedError)

    # check masks are in [0, 255] format
    if mask.max() != 255 and 0:
        # mask = mask/mask.max()
        raise (NotImplementedError)

    ones = mask.astype('bool').sum()
    zeros = total_pixels - ones
    values, counts = [0, 1], [zeros, ones]

    image_signal_stats = pd.DataFrame(
        [[mask_path.name, dataset, partition, zeros, ones, total_pixels]],
        columns=[
            "image_name", "dataset", "partition", "zeros", "ones", "total"
        ])
    signal_pct_df = pd.concat([signal_pct_df, image_signal_stats], axis=0)


eps = 1
qq = [0.1, 0.25, 0.5, 0.75, 0.9]

signal_pct_df[
    'class0_to_total'] = signal_pct_df["zeros"] / signal_pct_df["total"] * 100
signal_pct_df[
    'class1_to_total'] = signal_pct_df["ones"] / signal_pct_df["total"] * 100
# signal_pct_df['background_to_signal'] = signal_pct_df["zeros"]/(signal_pct_df["ones"]+eps)

signal_pct_df['zeros'] = signal_pct_df['zeros'].astype(int)
signal_pct_df['ones'] = signal_pct_df['ones'].astype(int)
signal_pct_df['total'] = signal_pct_df['total'].astype(int)
signal_pct_df['class0_to_total'] = signal_pct_df['class0_to_total'].astype(
    float)
signal_pct_df['class1_to_total'] = signal_pct_df['class1_to_total'].astype(
    float)

signal_pct_df.head()


def _create_multiindex_univariate(var):

    idx = pd.MultiIndex.from_tuples([
        ('variable', ''),
        (var, 'green'),
        (var, 'red'),
        (var, 'yellow'),
    ],
                                    names=['feature', 'dataset'])
    return idx


summary = signal_pct_df.groupby(["dataset"]).describe(percentiles=qq)

summary_table_univariate = summary.transpose().reset_index().set_index(
    'level_1')
summary_table_univariate = summary_table_univariate[
    summary_table_univariate.level_0 == "class1_to_total"]
summary_table_univariate.index.name = "statistics"
idx = _create_multiindex_univariate("signal %")
summary_table_univariate.columns = idx
summary_table_univariate.drop("variable", axis=1, inplace=True)
summary_table_univariate





%autoreload 2
from fluocells.utils.data import compute_masks_stats

cell_stats_df = compute_masks_stats(all_mask_paths)





AREA_THRESHOLD = 100
objects_to_check = cell_stats_df[cell_stats_df.area < AREA_THRESHOLD]

print("Suspect objects:", len(objects_to_check))

objects_to_check


from skimage import measure, draw
import cv2

bbox_enlargement = 5
# for image_row in objects_to_check.itertuples():
for image_name in objects_to_check.image_name.unique():
    image_row = objects_to_check[objects_to_check.image_name == image_name].iloc[0]
    mask_path = DATA_PATH / image_row.dataset / image_row.partition / "ground_truths/masks" / image_row.image_name
    image_path = DATA_PATH / image_row.dataset / image_row.partition / "images" / image_row.image_name
    binary_mask = io.imread(mask_path, as_gray=True)
    image = io.imread(image_path)
    labels = measure.label(binary_mask)
#     labels = measure.label(binary_mask, connectivity=1) # this generates more small objects because of diagonal pixels
    props = measure.regionprops(labels)
    print(image_path.name)
    
    small_obj = 0
    for prop in props:
        if prop.area < AREA_THRESHOLD:
            small_obj += 1
            print("object area:", prop.area)
            minr, minc, maxr, maxc = prop.bbox
            minr, minc, maxr, maxc = minr - bbox_enlargement, minc - bbox_enlargement, maxr + bbox_enlargement, maxc + bbox_enlargement  # make the bounding box larger

            # Clip the values to be within the image dimensions
            minr, minc, maxr, maxc = max(minr, 0), max(minc, 0), min(maxr, image.shape[0]), min(maxc, image.shape[1])

            # Draw thick blue contour on the RGB image
            _ = cv2.rectangle(image, (minc, minr), (maxc, maxr), (0, 0, 255), thickness=3)

    if small_obj:
        small_obj = 0
        plt.imshow(image)
        plt.axis('off')
        plt.show()


raw_stats = pd.merge(cell_stats_df,
                     signal_pct_df[["image_name", "class1_to_total"]],
                     on="image_name")


# convert from pixel to um based on resolution from metadata
def _convert_pixels_to_micron(stats_df, meta_df):
    _temp = pd.merge(stats_df,
                     meta_df[["image_name", "resolution_px_um"]],
                     on="image_name")
    # we need to divide twice for the area (um^2)
    stats_df.loc[:, "area"] = stats_df["area"] / _temp["resolution_px_um"]
    return stats_df[stats_df.columns[1:]].div(_temp["resolution_px_um"],
                                              axis=0)


meta_df = pd.read_excel(DATA_PATH /
                        f"metadata_{METADATA['current_version']}.xlsx",
                        sheet_name="metadata")
measure_cols = list(cell_stats_df.columns[5:])
cell_stats_df[cell_stats_df.columns[5:]] = _convert_pixels_to_micron(
    cell_stats_df[["image_name"] + measure_cols], meta_df)
cell_stats_df


summary = cell_stats_df.groupby(["dataset"]).describe(percentiles=qq)
summary_table_objects_univariate = summary.transpose().reset_index().set_index(
    'level_1')
summary_table_objects_univariate


variables = summary_table_objects_univariate.level_0.unique()
summary_table_objects_univariate_wide = pd.DataFrame()

for var in variables[0:]:

    idx = _create_multiindex_univariate(var)

    summary_table_objects_wide_update = summary_table_objects_univariate[
        summary_table_objects_univariate.level_0 == var]
    summary_table_objects_wide_update.columns = idx
    summary_table_objects_wide_update.drop("variable", axis=1, inplace=True)

    summary_table_objects_univariate_wide = pd.concat([
        summary_table_objects_univariate_wide,
        summary_table_objects_wide_update
    ],
                                                      axis=1)

summary_table_objects_univariate_wide.index.name = "statistic"
summary_table_objects_univariate_wide


paper_measures = [
    "n_cells", "area", "feret_diameter_max", "equivalent_diameter"
]

global_summary_univariate = pd.concat([
    summary_table_univariate,
    summary_table_objects_univariate_wide[paper_measures]
],
                                      axis=1)

# save as latex table for the paper
with open(DATA_PATH / 'univariate_summary_statistics.tex', 'w') as f:
    f.write(global_summary_univariate.to_latex(float_format="%.2f"))
    
global_summary_univariate








def _create_multiindex(var):

    idx = pd.MultiIndex.from_tuples([('variable', '', ''),
                                     (var, 'green', 'test'),
                                     (var, 'green', 'trainval'),
                                     (var, 'red', 'test'),
                                     (var, 'red', 'trainval'),
                                     (var, 'yellow', 'test'),
                                     (var, 'yellow', 'trainval')],
                                    names=['feature', 'dataset', 'partition'])
    return idx


summary = signal_pct_df.groupby(["dataset",
                                 "partition"]).describe(percentiles=qq)

summary_table = summary.transpose().reset_index().set_index('level_1')
summary_table = summary_table[summary_table.level_0 == "class1_to_total"]
summary_table.index.name = "statistics"
idx = _create_multiindex("signal %")
summary_table.columns = idx
summary_table.drop("variable", axis=1, inplace=True)
summary_table





summary = cell_stats_df.groupby(["dataset",
                                 "partition"]).describe(percentiles=qq)
summary_table_objects = summary.transpose().reset_index().set_index('level_1')
summary_table_objects


variables = summary_table_objects.level_0.unique()
summary_table_objects_wide = pd.DataFrame()

for var in variables[0:]:

    idx = _create_multiindex(var)

    summary_table_objects_wide_update = summary_table_objects[
        summary_table_objects.level_0 == var]
    summary_table_objects_wide_update.columns = idx
    summary_table_objects_wide_update.drop("variable", axis=1, inplace=True)

    summary_table_objects_wide = pd.concat(
        [summary_table_objects_wide, summary_table_objects_wide_update],
        axis=1)

summary_table_objects_wide.index.name = "statistic"
summary_table_objects_wide


paper_measures = [
    "n_cells", "area", "feret_diameter_max", "equivalent_diameter"
]

global_summary = pd.concat(
    [summary_table, summary_table_objects_wide[paper_measures]], axis=1)
global_summary





raw_stats.to_csv(DATA_PATH / "dataset_features.csv", index=False)

# univariate
global_summary_univariate.to_csv(DATA_PATH / "aggregate_dataset_features.csv")

# dataset X partition
global_summary.to_csv(DATA_PATH / "aggregate_datasetXpartition_features.csv")





raw_stats


colors = {"green": '#067b26', "red": '#e11b01', "yellow": '#f9f814'}
datasets = ["green", "yellow", "red"]

unit_dict = {
    "class1_to_total": "value (%)",
    "area": "value $(\mu m^2)$",
    "n_cells": "count"
}

title_dict = {
    "class1_to_total": "Cell % over total pixels",
    "area": "Cell area",
    "n_cells": "Number of cells"
}


def _format_annotation_text(text):
    return text.rstrip('0').rstrip('.')


def plot_boxplot(boxplot_data: list[pd.Series], colors: dict,
                 quantiles: np.array):
    feature = boxplot_data[0].name
    ymax = max(max(boxplot_data[0]), max(boxplot_data[1]), max(
        boxplot_data[2])) + 5
    boxprops = dict(linewidth=2, color='black')
    whiskerprops = dict(linewidth=2, color='black')
    capprops = dict(linewidth=2, color='black')
    medianprops = dict(linewidth=2, color='#4287f5', linestyle='dashed')
    meanprops = dict(marker='o',
                     markeredgecolor='#a8a8a8',
                     markerfacecolor='#5f27cd')
    fig, ax = plt.subplots()

    box_shift = np.arange(1, 7, 2)
    # NOTE: don't accept NaNs
    boxplot = ax.boxplot(boxplot_data,
                         labels=['Green', 'Yellow', 'Red'],
                         patch_artist=True,
                         showfliers=True,
                         boxprops=boxprops,
                         whiskerprops=whiskerprops,
                         capprops=capprops,
                         medianprops=medianprops,
                         meanprops=meanprops,
                         meanline=True,
                         vert=True,
                         positions=box_shift)

    all_data = list(boxplot_data[0].values) + list(
        boxplot_data[1].values) + list(boxplot_data[2].values)
    q_values = np.linspace(0, 100, 7)
    yticks = np.percentile(all_data, q_values)
    if boxplot_data[0].name != "area":
        yticks = np.insert(yticks, 0, 0)

    #     quantiles = quantiles * 100
    # #     quantiles = np.insert(quantiles, 0, 0)
    # #     quantiles = np.append(quantiles, 100)
    #     q_values = [np.nanpercentile(data, quantiles) for data in boxplot_data]
    #     q_values = np.unique(q_values)
    _ = plt.xticks(box_shift, ['Green', 'Yellow', 'Red'])
    _ = plt.xlim(0, box_shift.max() + 1)
    _ = plt.xlabel("Dataset")
    _ = plt.yticks(yticks,
                   [_format_annotation_text(f"{q:.2f}") for q in yticks])
    _ = plt.ylim(0, ymax)
    _ = plt.ylabel(unit_dict[feature])
    _ = plt.title(title_dict[feature].title())
    _ = plt.tight_layout()

    # Color the boxes based on dataset value
    for i, box in enumerate(boxplot['boxes']):
        color = colors.get(datasets[i])
        _ = plt.setp(box, facecolor=color)

    
    ax.xaxis.grid(False) 

#     # Add text annotation for quantiles
#     quantiles = quantiles * 100
#     quantile_labels = [f"q{int(q)}" for q in quantiles]
#     quantiles = np.insert(quantiles, 0, 0)
#     quantiles = np.append(quantiles, 100)
#     quantile_labels.insert(0, "min")
#     quantile_labels = np.append(quantile_labels, "max")
#     box_shift = [1, 3, 5]
#     for i, box in enumerate(boxplot['boxes']):
#         # Get the quantiles for each box
#         q_values = np.nanpercentile(boxplot_data[i], quantiles)
#         # Add text annotation for each quantile
#         for j, q in enumerate(q_values):
#             label_shift = -1#(-1)**(2 - j%2)
#             _ = plt.text(
#                box_shift[i] + label_shift*0.6,
#                 q,
#                 f"{quantile_labels[j]}: {_format_annotation_text(f'{q:.1f}')}",
#                 ha='center',
#                 va='center')

    return fig


# data = {
#     'dataset': ["green","green","green","green","green",
#                "yellow","yellow","yellow","yellow","yellow",
#                "red","red","red","red","red"],
#     'area': [3, 4.1, 0.2, 1, 2,
#                 4, 7, 1, 0.1, 0.3,
#                 7, 9, 9, 4, 3],
#     'n_cells': [100, 11, 5, 67, 49,
#                 12, 17, 34, 2, 0,
#                34, 57, 9, 8, 13],
# }
# df = pd.DataFrame(data)

# boxplot_data = [
#     df[df['dataset'] == 'green']['area'],
#     df[df['dataset'] == 'yellow']['area'],
#     df[df['dataset'] == 'red']['area']
# ]

# plot_boxplot(boxplot_data, colors, np.array(qq))


FIGURES_PATH = REPO_PATH / "figures"
columns_to_plot = ['n_cells', 'area', 'class1_to_total']
# columns_to_plot = ['area']

# size = 14
# params = {'legend.fontsize': 'large',
# #           'font.family': "Helvetica",
#           'figure.figsize': (8, 8),
#           'axes.labelsize': size,
#           'axes.titlesize': size,
#           'xtick.labelsize': size*0.7,
#           'ytick.labelsize': size*0.7,
#           # 'axes.titlepad': 25
#           }
# plt.rcParams.update(params)


for feature in columns_to_plot:
    if feature=="area":
        relevant_raw_stats = raw_stats.loc[~raw_stats[feature].isna(), ["dataset", feature]]
    else:
        relevant_raw_stats = raw_stats.copy()
        
    boxplot_data = [
        relevant_raw_stats[relevant_raw_stats['dataset'] == 'green'][feature],
        relevant_raw_stats[relevant_raw_stats['dataset'] == 'yellow'][feature],
        relevant_raw_stats[relevant_raw_stats['dataset'] == 'red'][feature]
    ]

    fig = plot_boxplot(boxplot_data, colors, np.array(qq))
    _ = plt.savefig(FIGURES_PATH / f"{feature}_boxplots.pdf",
                    format='pdf',
                    bbox_inches='tight',
                    pad_inches=0)
    





from fluocells.utils.annotations import load_VIA_annotations, _convert_from_VIA_polygon

CHALLENGES_PATH = REPO_PATH / "figures/challenges"
challenges_df = load_VIA_annotations(CHALLENGES_PATH / "challenges.csv")
challenges_df





# color_text = ["#02c4cb", "#c6aa0e"]
# # palette = ["#00FF00", "#faf9f9", "#28afb0", "#f4d35e", "#F73CF9",
# #            "#F74142"]  #0000F5
# # palette = ["f2d5f8","e07a5f","3d405b","81b29a","f2cc8f","e6c0e9"]
# palette = ["#00FF00", "#f4d35e", "#f2d5f8", "#C977CF", "#1461f0", "#F74142"]
# categories = [
#     'stripe', 'artifact', 'marked cell', 'non-marked cell', 'filament',
#     'overcrowding'
# ]
# palette_dict = {cat: c for cat, c in zip(categories, palette)}

# size = 18
# params = {
#     'legend.fontsize': 'large',
#     #           'font.family': "Helvetica",
#     'figure.figsize': (8, 8),
#     'axes.labelsize': size,
#     'axes.titlesize': size,
#     'xtick.labelsize': size * 0.9,
#     'ytick.labelsize': size * 0.9,
#     # 'axes.titlepad': 25
# }
# plt.rcParams.update(params)

# text_annotations = {
#     "1096.png": {
#         "labels": [
#             "overcrowding", "marked cell", "marked cell", "non-marked cell",
#             "non-marked cell"
#         ],
#         "coordinates": [[900, 580], [300, 520], [440, 940], [1400, 230],
#                         [140, 990]]
#     },
#     "1025.png": {
#         "labels": ["stripe", "filaments"],
#         "coordinates": [[1400, 200], [1300, 560]]
#     },
#     "905.png": {
#         "labels": ["dot-artifacts", "fluorophore\naccumulation"],
#         "coordinates": [[1240, 530], [800, 700]]
#     },
#     "311.png": {
#         "labels": [
#             "overcrowding", "marked cell", "non-marked cell", "filament",
#             "dot-artifact"
#         ],
#         "coordinates": [[800, 900], [1700, 460], [1450, 670], [1800, 1280],
#                         [1900, 50]]
#     },
#     "128.png": {
#         "labels": ["fluorophore\naccumulation"],
#         "coordinates": [[900, 970]]
#     },
#     "177.png": {
#         "labels": [
#             "overcrowding", "marked cell", "marked cell", "non-marked cell",
#             "non-marked cell", "stripe", "dot-artifact", "dot-artifact"
#         ],
#         "coordinates": [[700, 600], [900, 520], [1150, 970], [1100, 750],
#                         [1450, 770], [170, 420], [410, 900], [1550, 450]]
#     },
#     "309.png": {
#         "labels": [
#             "overcrowding", "stripe", "marked cell", "non-marked cell",
#             "fluorophore\naccumulation"
#         ],
#         "coordinates": [[300, 500], [100, 700], [450, 930], [380, 1070],
#                         [1000, 400]]
#     },
# }


# from matplotlib.patches import Polygon


# def get_y_coords(y, img_height, label):
#     y = np.array(y)

#     if "stripe" in label:
#         return y.mean() + 30
#     if "non-marked" in label:
#         return y.max() + 40

#     r = y.max() - y.min()
#     if r > img_height / 3:  #200:
#         return img_height / 12 * 7.3  #379# y.mean()
#     else:
#         return y.min()


# MULTIPLE = 20


# def get_unit_scale_line(resolution, multiple):
#     L = np.ceil(resolution * multiple)

#     x_hook, y_hook = 100, 100
#     y_bar_midlength = L / 20

#     x = [
#         x_hook, x_hook + L, None, x_hook, x_hook, None, x_hook + L, x_hook + L
#     ]
#     y = [
#         y_hook, y_hook, None, y_hook - y_bar_midlength,
#         y_hook + y_bar_midlength, None, y_hook - y_bar_midlength,
#         y_hook + y_bar_midlength
#     ]
#     x_center, y_center = x_hook + int(L / 2), y_hook

#     return x, y, x_center, y_center


# transparency = 0.2
# unit_scale_color = '#EEF0F2'  # cultured
# unit_scale_color = '#FBFBFF'  # ghost white
# unit_scale_color = '#E5E5E5'  # platinum
# y_offset = 30

# for image_name in challenges_df.filename.unique():
#     resolution = 3.991 if image_name == "311.png" else 3.187
#     unit_scale_x, unit_scale_y, unit_scale_xcenter, unit_scale_ycenter = get_unit_scale_line(
#         resolution, MULTIPLE)

#     image = io.imread(CHALLENGES_PATH / image_name)
#     img_height, img_width, _ = image.shape

#     # Create a figure and axis
#     fig, ax = plt.subplots(figsize=(16, 12))

#     # Display the image
#     _ = ax.imshow(image, origin='upper')

#     annotations = challenges_df.query(
#         "filename==@image_name")["region_shape_attributes"]
#     challenge_types = challenges_df.query(
#         "filename==@image_name")["region_attributes"]

#     for i, annotation_tuple in enumerate(zip(annotations, challenge_types)):
#         annotation, challenge_type = annotation_tuple
#         label = challenge_type["challenge"]
#         c = palette_dict[label]  # deal with dotted VS shaded examples

#         coordinates = _convert_from_VIA_polygon(annotation["all_points_x"],
#                                                 annotation["all_points_y"])
#         x, y = zip(*coordinates)
#         x = list(x)
#         x.append(x[0])
#         y = list(y)
#         y.append(y[0])
#         polygon = Polygon(
#             coordinates,
#             linewidth=3,
#             edgecolor=c,
#             facecolor=c,
#             alpha=transparency,
#         )
#         _ = ax.add_patch(polygon)

#         # Add markers on polygon's coordinates
#         _ = ax.plot(x, y, marker='o', color=c, markersize=4)

#         # Add text
#         text = text_annotations[image_name]
#         text_labels = text["labels"]
#         text_coordinates = text["coordinates"]
#         for text_label, text_coords in zip(text_labels, text_coordinates):
#             xanch = 'right' if text_label in ['filament', 'dot-artifact'
#                                               ] else 'center'
#             yanch = 'top' if 'non-marked' in text_label else 'center'
#             _ = ax.text(text_coords[0],
#                         text_coords[1],
#                         text_label,
#                         color=color_text[0],
#                         fontsize=params['axes.labelsize'],
#                         ha=xanch,
#                         va=yanch)

#         # Add unit scale
#         _ = ax.plot(unit_scale_x,
#                     unit_scale_y,
#                     color=unit_scale_color,
#                     markersize=1)
#         _ = ax.text(unit_scale_xcenter,
#                     unit_scale_ycenter - y_offset / 2,
#                     f"{MULTIPLE} µm",
#                     color=unit_scale_color,
#                     fontsize=int(size * 2 / 3),
#                     ha='center')

#         # Remove the axis ticks
#         _ = ax.set_xticks([])
#         _ = ax.set_yticks([])

#     _ = plt.savefig(CHALLENGES_PATH / f"{image_name.split('.')[0]}.pdf",
#                     format='pdf',
#                     bbox_inches='tight',
#                     pad_inches=0)
#     _ = plt.show()





color_text = ["#02c4cb", "#c6aa0e"]
# palette = ["#00FF00", "#faf9f9", "#28afb0", "#f4d35e", "#F73CF9",
#            "#F74142"]  #0000F5
# palette = ["f2d5f8","e07a5f","3d405b","81b29a","f2cc8f","e6c0e9"]
palette = ["#00FF00", "#f4d35e", "#f2d5f8", "#C977CF", "#1461f0", "#F74142"]
categories = [
    'stripe', 'artifact', 'marked cell', 'non-marked cell', 'filament',
    'overcrowding'
]
palette_dict = {cat: c for cat, c in zip(categories, palette)}

size = 18
params = {
    'legend.fontsize': 'large',
    #           'font.family': "Helvetica",
    'figure.figsize': (8, 8),
    'axes.labelsize': size,
    'axes.titlesize': size,
    'xtick.labelsize': size * 0.9,
    'ytick.labelsize': size * 0.9,
    # 'axes.titlepad': 25
}
plt.rcParams.update(params)

text_annotations = {
    "1096.png": {
        "labels": [
            "overcrowding", "marked\ncell", "marked\ncell", "non-marked\ncell",
            "non-marked\ncell"
        ],
        "coordinates": [[900, 580], [300, 480], [650, 1100], [1400, 230],
                        [200, 900]]
    },
    "1025.png": {
        "labels": ["stripe", "filaments"],
        "coordinates": [[1400, 200], [1200, 560]]
    },
    "905.png": {
        "labels": ["dot-artifacts", "fluorophore\naccumulation"],
        "coordinates": [[1240, 350], [800, 650]]
    },
    "311.png": {
        "labels": [
            "overcrowding", "marked\ncell", "non-marked\ncell", "filament",
            "dot-artifact"
        ],
        "coordinates": [[600, 900], [1800, 460], [1150, 500], [1800, 1280],
                        [1900, 50]]
    },
    "128.png": {
        "labels": ["fluorophore\naccumulation"],
        "coordinates": [[900, 920]]
    },
    "177.png": {
        "labels": [
            "overcrowding", "marked\ncell", "marked\ncell", "non-marked\ncell",
            "non-marked\ncell", "stripe", "dot-artifact", "dot-artifact"
        ],
        "coordinates": [[570, 550], [1000, 400], [1050, 1060], [1150, 700],
                        [1400, 970], [200, 420], [610, 1050], [1550, 450]]
    },
    "309.png": {
        "labels": [
            "overcrowding", "stripe", "marked\ncell", "non-marked\ncell",
            "fluorophore\naccumulation"
        ],
        "coordinates": [[400, 480], [80, 700], [590, 880], [520, 1060],
                        [1000, 350]]
    },
}


from matplotlib.patches import Polygon


def get_y_coords(y, img_height, label):
    y = np.array(y)

    if "stripe" in label:
        return y.mean() + 30
    if "non-marked" in label:
        return y.max() + 40

    r = y.max() - y.min()
    if r > img_height / 3:  #200:
        return img_height / 12 * 7.3  #379# y.mean()
    else:
        return y.min()


MULTIPLE = 20


def get_unit_scale_line(resolution, multiple):
    L = np.ceil(resolution * multiple)

    x_hook, y_hook = 100, 100
    y_bar_midlength = L / 20

    x = [
        x_hook, x_hook + L, None, x_hook, x_hook, None, x_hook + L, x_hook + L
    ]
    y = [
        y_hook, y_hook, None, y_hook - y_bar_midlength,
        y_hook + y_bar_midlength, None, y_hook - y_bar_midlength,
        y_hook + y_bar_midlength
    ]
    x_center, y_center = x_hook + int(L / 2), y_hook

    return x, y, x_center, y_center


transparency = 0.2
unit_scale_color = '#EEF0F2'  # cultured
unit_scale_color = '#FBFBFF'  # ghost white
unit_scale_color = '#E5E5E5'  # platinum
y_offset = 30

for image_name in challenges_df.filename.unique():
    resolution = 3.991 if image_name == "311.png" else 3.187
    unit_scale_x, unit_scale_y, unit_scale_xcenter, unit_scale_ycenter = get_unit_scale_line(
        resolution, MULTIPLE)

    image = io.imread(CHALLENGES_PATH / image_name)
    img_height, img_width, _ = image.shape

    # Create a figure and axis
    fig, ax = plt.subplots(figsize=(8, 6))

    # Display the image
    _ = ax.imshow(image, origin='upper')

    annotations = challenges_df.query(
        "filename==@image_name")["region_shape_attributes"]
    challenge_types = challenges_df.query(
        "filename==@image_name")["region_attributes"]

    for i, annotation_tuple in enumerate(zip(annotations, challenge_types)):
        annotation, challenge_type = annotation_tuple
        label = challenge_type["challenge"]
        c = palette_dict[label]  # deal with dotted VS shaded examples

        coordinates = _convert_from_VIA_polygon(annotation["all_points_x"],
                                                annotation["all_points_y"])
        x, y = zip(*coordinates)
        x = list(x)
        x.append(x[0])
        y = list(y)
        y.append(y[0])
        polygon = Polygon(
            coordinates,
            linewidth=3,
            edgecolor=c,
            facecolor=c,
            alpha=transparency,
        )
        _ = ax.add_patch(polygon)

        # Add markers on polygon's coordinates
        _ = ax.plot(x, y, marker='o', color=c, markersize=4)

        # Add text
        text = text_annotations[image_name]
        text_labels = text["labels"]
        text_coordinates = text["coordinates"]
        for text_label, text_coords in zip(text_labels, text_coordinates):
            xanch = 'right' if text_label in ['filament', 'dot-artifact'
                                              ] else 'center'
            yanch = 'top' if 'non-marked' in text_label else 'center'
            _ = ax.text(text_coords[0],
                        text_coords[1],
                        text_label,
                        color=color_text[0],
                        fontsize=params['axes.labelsize'],
                        ha=xanch,
                        va=yanch)

        # Add unit scale
        _ = ax.plot(unit_scale_x,
                    unit_scale_y,
                    color=unit_scale_color,
                    markersize=1)
        _ = ax.text(unit_scale_xcenter,
                    unit_scale_ycenter - y_offset / 2,
                    f"{MULTIPLE} µm",
                    color=unit_scale_color,
                    fontsize=9,
                    ha='center')

        # Remove the axis ticks
        _ = ax.set_xticks([])
        _ = ax.set_yticks([])

    _ = plt.savefig(CHALLENGES_PATH / f"{image_name.split('.')[0]}.pdf",
                    format='pdf',
                    bbox_inches='tight',
                    pad_inches=0)
    _ = plt.show()





TECHNICAL_VALIDATION_PATH = REPO_PATH / "figures/technical_validation"
technical_validation_df = load_VIA_annotations(TECHNICAL_VALIDATION_PATH / "validation.csv")
technical_validation_df


color_text = ["#02c4cb", "#c6aa0e"]
categories = ["rect", "ellipse", "circle", "polygon"]
palette = ["#0696FD", "#FFBC42", "#00FF00", "#e07a5f"]
palette_dict = {cat: c for cat, c in zip(categories, palette)}

size = 18
params = {
    'legend.fontsize': 'large',
    #           'font.family': "Helvetica",
    'figure.figsize': (8, 8),
    'axes.labelsize': size,
    'axes.titlesize': size,
    'xtick.labelsize': size * 0.9,
    'ytick.labelsize': size * 0.9,
    # 'axes.titlepad': 25
}
plt.rcParams.update(params)

text_annotations = {
    "rect": {
        "labels": ["fill\nholes"],
        "coordinates": [[300, 1000]]
    },
    "ellipse": {
        "labels": ["smooth\ncontours"],
        "coordinates": [[700, 550]]
    },
    "circle": {
        "labels": ["remove\nsmall objects"],
        "coordinates": [[650, 260],]
    },
    "polygon": {
        "labels": ["review\nannotations"],
        "coordinates": [[700, 1100],]
    },
}


from matplotlib.patches import Polygon
import matplotlib.patches as patches
from skimage import measure
import matplotlib.colors as mcolors


def generate_pastel_colormap(length):
    # Creating pastel colors
    # Lowering the saturation of colors to get a pastel feel
    pastel_colors = plt.cm.Pastel1(np.linspace(0, 1, length))

    # Insert black color at the start
    pastel_colors = np.vstack(([0, 0, 0, 1], pastel_colors))  

    # Create new colormap
    pastel_cmap = mcolors.ListedColormap(pastel_colors)

    return pastel_cmap

    

for image_name in technical_validation_df.filename.unique():

    image = io.imread(TECHNICAL_VALIDATION_PATH / image_name, as_gray=True)
    img_height, img_width = image.shape
    
    objects_colormap = generate_pastel_colormap(measure.label(image, return_num=True)[1])
    
    # Create a figure and axis
    fig, ax = plt.subplots(figsize=(4, 3))
    _ = ax.imshow(measure.label(image), cmap=objects_colormap, origin='upper')

    annotations = technical_validation_df.query(
        "filename==@image_name")["region_shape_attributes"]

    for i, annotation in enumerate(annotations):
        validation_type = annotation["name"]
        text = text_annotations[validation_type]
        c = palette_dict[validation_type]

        # Define the center, radius, and color of the circle
        if validation_type=='circle':
            center = annotation["cx"], annotation["cy"]  # center coordinates (y, x)
            radius = annotation["r"]  # radius

            # Create the Circle patch
            circle = patches.Circle(center, radius, edgecolor=c, facecolor=c, fill=True, linewidth=3, alpha=transparency)
            _ = ax.add_patch(circle)
        elif validation_type == "ellipse":
            # Define the center, width, height, angle, and color of the ellipse
            center = annotation["cx"] - 20, annotation["cy"]  # center coordinates (y, x)
            width = annotation["rx"] + 60  # width
            height = annotation["ry"] + 30  # height
            angle = annotation["theta"]  # angle (in degrees)

            # Create the Ellipse patch
            ellipse = patches.Ellipse(center, width, height, angle=angle, edgecolor=c, facecolor=c, fill=True, linewidth=3, alpha=transparency)
            _ = ax.add_patch(ellipse)
        elif validation_type=="rect":
            # Define the center, width, height, angle, and color of the ellipse
            origin = annotation["x"], annotation["y"]  # center coordinates (y, x)
            width = annotation["width"]  # width
            height = annotation["height"]  # height

            # Create the Rectangle patch
            rectangle = patches.Rectangle(origin, width, height, edgecolor=c, facecolor=c, linewidth=3, alpha=transparency)
            _ = ax.add_patch(rectangle)
        else: # "polygon"
            coordinates = _convert_from_VIA_polygon(annotation["all_points_x"],
                                                annotation["all_points_y"])
            x, y = zip(*coordinates)
            x = list(x)
            x.append(x[0])
            y = list(y)
            y.append(y[0])
            polygon = Polygon(
                coordinates,
                linewidth=3,
                edgecolor=c,
                facecolor=c,
                alpha=transparency,
            )
            _ = ax.add_patch(polygon)

            # Add markers on polygon's coordinates
            _ = ax.plot(x, y, marker='o', color=c, markersize=2)
            
            
        # Add text
        text_labels = text["labels"]
        text_coordinates = text["coordinates"]
        for text_label, text_coords in zip(text_labels, text_coordinates):
            xanch = 'right' if text_label in ['filament', 'dot-artifact'
                                              ] else 'center'
            yanch = 'top' if 'non-marked' in text_label else 'center'
            _ = ax.text(text_coords[0],
                        text_coords[1],
                        text_label,
                        color=color_text[0],
                        fontsize=10,#params['axes.labelsize'],
                        ha=xanch,
                        va=yanch)

        # Remove the axis ticks
        _ = ax.set_xticks([])
        _ = ax.set_yticks([])    
    
    _ = plt.savefig(TECHNICAL_VALIDATION_PATH / f"{image_name.split('.')[0]}.pdf",
                    format='pdf',
                    bbox_inches='tight',
                    pad_inches=0)    
